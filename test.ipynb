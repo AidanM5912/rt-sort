{
 "cells": [
  {
   "cell_type": "code",
   "execution_count": 1,
   "metadata": {},
   "outputs": [],
   "source": [
    "import utils.configure\n"
   ]
  },
  {
   "cell_type": "code",
   "execution_count": 2,
   "metadata": {},
   "outputs": [
    {
     "name": "stdout",
     "output_type": "stream",
     "text": [
      "https://s3.braingeneers.gi.ucsc.edu\n"
     ]
    }
   ],
   "source": [
    "print(utils.configure.get_default_endpoint())"
   ]
  },
  {
   "cell_type": "code",
   "execution_count": 4,
   "metadata": {},
   "outputs": [
    {
     "name": "stdout",
     "output_type": "stream",
     "text": [
      "True\n"
     ]
    }
   ],
   "source": [
    "from utils.common_utils import file_exists\n",
    "print(file_exists(\"s3://braingeneers/ephys/2024-10-31-e-SmitsMidbrain/original/data/24481_SmitsMO_D49_sect300_20241031.raw.h5\"))\n"
   ]
  },
  {
   "cell_type": "code",
   "execution_count": 3,
   "metadata": {},
   "outputs": [
    {
     "name": "stdout",
     "output_type": "stream",
     "text": [
      "b'{\\n    \"uuid\": \"2024-10-31-e-SmitsMidbrain\",\\n    \"timestamp\": \"\",\\n    \"maxwell_chip_id\": \"N/A\",\\n    \"'\n"
     ]
    }
   ],
   "source": [
    "from utils.smart_open_braingeneers import open\n",
    "\n",
    "with open(\"s3://braingeneers/ephys/2024-10-31-e-SmitsMidbrain/metadata.json\", 'rb') as f:\n",
    "    print(f.read(100))  # print first 100 bytes\n"
   ]
  },
  {
   "cell_type": "code",
   "execution_count": 5,
   "metadata": {},
   "outputs": [
    {
     "name": "stdout",
     "output_type": "stream",
     "text": [
      "(100, 100)\n",
      "[0.83629734 0.86967531 0.33337717 0.97603442 0.88698809 0.15235271\n",
      " 0.31105645 0.915928   0.71093297 0.2312655  0.81817948 0.18675222\n",
      " 0.38757647 0.27849498 0.38768257 0.25100254 0.24185206 0.80598146\n",
      " 0.12758268 0.96506359 0.19515809 0.52995533 0.59476807 0.35041131\n",
      " 0.69162089 0.76635765 0.23163243 0.5604566  0.86497216 0.19107272\n",
      " 0.4978219  0.86380166 0.82833342 0.33343712 0.53041115 0.33719109\n",
      " 0.03825565 0.52131089 0.47235633 0.47159688 0.98601523 0.94694572\n",
      " 0.0876619  0.81793863 0.50543802 0.90787373 0.47794827 0.85005559\n",
      " 0.79761839 0.0275185  0.92556463 0.84231125 0.19830888 0.3727847\n",
      " 0.23584879 0.7334057  0.97068357 0.74561627 0.05636437 0.78269005\n",
      " 0.43274216 0.52085721 0.88719522 0.41202535 0.47843513 0.52202939\n",
      " 0.25578736 0.58586646 0.41291118 0.16465914 0.6387075  0.75659609\n",
      " 0.91072214 0.44660382 0.4983114  0.57343326 0.47782887 0.5159227\n",
      " 0.99798772 0.55558153 0.53932754 0.3517174  0.96142715 0.59104218\n",
      " 0.85243372 0.6130064  0.06504502 0.5470159  0.28680377 0.30318205\n",
      " 0.96417915 0.74827472 0.85959073 0.55522869 0.15304923 0.69759507\n",
      " 0.98732782 0.70855063 0.80859258 0.22354407]\n"
     ]
    }
   ],
   "source": [
    "from utils.numpy_s3_memmap import NumpyS3Memmap\n",
    "\n",
    "memmap = NumpyS3Memmap(\"s3://braingeneersdev/amorson/test.npy\")\n",
    "print(memmap.shape)\n",
    "print(memmap[0])  # test slicing\n"
   ]
  },
  {
   "cell_type": "code",
   "execution_count": 6,
   "metadata": {},
   "outputs": [
    {
     "name": "stdout",
     "output_type": "stream",
     "text": [
      "________________________________________________________________________________\n",
      "[Memory] Calling __main__--var-folders-y8-kbj1jbfx1tz288yn1q1ssj4r0000gn-T-ipykernel-2852770500.test_func...\n",
      "test_func(21)\n",
      "running func\n",
      "________________________________________________________test_func - 1.4s, 0.0min\n",
      "42\n"
     ]
    },
    {
     "name": "stderr",
     "output_type": "stream",
     "text": [
      "/Users/aidanmorson/anaconda3/envs/rt-sort-minimal-test/lib/python3.8/site-packages/joblib/memory.py:577: UserWarning: Persisting input arguments took 1.16s to run.If this happens often in your code, it can cause performance problems (results will be correct in all cases). The reason for this is probably some large input arguments for a wrapped function.\n",
      "  return self._cached_call(args, kwargs, shelving=False)[0]\n"
     ]
    }
   ],
   "source": [
    "from utils.memoize_s3 import memoize\n",
    "\n",
    "@memoize\n",
    "def test_func(x):\n",
    "    print(\"running func\")\n",
    "    return x * 2\n",
    "\n",
    "print(test_func(21))  # Should print 'running func' only on first run\n"
   ]
  },
  {
   "cell_type": "code",
   "execution_count": null,
   "metadata": {},
   "outputs": [],
   "source": []
  }
 ],
 "metadata": {
  "kernelspec": {
   "display_name": "rt-sort-minimal-test",
   "language": "python",
   "name": "python3"
  },
  "language_info": {
   "codemirror_mode": {
    "name": "ipython",
    "version": 3
   },
   "file_extension": ".py",
   "mimetype": "text/x-python",
   "name": "python",
   "nbconvert_exporter": "python",
   "pygments_lexer": "ipython3",
   "version": "3.8.20"
  }
 },
 "nbformat": 4,
 "nbformat_minor": 2
}
